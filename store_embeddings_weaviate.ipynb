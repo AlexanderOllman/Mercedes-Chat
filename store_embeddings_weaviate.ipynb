{
 "cells": [
  {
   "cell_type": "code",
   "execution_count": null,
   "id": "662232fb-bb6e-46b1-88d0-6733f8c55926",
   "metadata": {},
   "outputs": [],
   "source": [
    "# *******************************************************************************************\n",
    "# *                                                                                         *\n",
    "# *  Hewlett Packard Enterprise Confidential.                                               *\n",
    "# *                                                                                         *\n",
    "# *  This software is the proprietary information of Hewlett Packard Enterprise.            *\n",
    "# *                                                                                         *\n",
    "# * Author : Nishant Chanduka (nishant.chanduka@hpe.com)                                    *\n",
    "# *******************************************************************************************"
   ]
  },
  {
   "cell_type": "code",
   "execution_count": null,
   "id": "1d4dbeac-59b0-4b38-b23c-f49cecfc16d8",
   "metadata": {},
   "outputs": [],
   "source": [
    "# This notebook containes sample code to \n",
    "#     1. Connect to a S3 bucket\n",
    "#     2. Read images from S3 bucket\n",
    "#     3. Convert images to numpy array\n",
    "#     4. Load a embedding model.\n",
    "#     5. Generate image embeddings. \n",
    "#     6. Connect to weaviate db instance. \n",
    "#     7. Store the image embeddings in weaviate collection. "
   ]
  },
  {
   "cell_type": "code",
   "execution_count": null,
   "id": "b02ab246-b2d9-4577-acf1-893323f89805",
   "metadata": {},
   "outputs": [],
   "source": [
    "# Before you choose to run this code, create a conda env. Sample steps/commands below\n",
    "# Commands:\n",
    "# conda create --name weaviate-env python=3.11\n",
    "# conda actiavte weaviate-env\n",
    "# pip install weaviate-client boto3 numpy tensorflow Pillow\n",
    "# conda install -c anaconda ipykernel\n",
    "\n",
    "# If you do not see the env is not listed as a kernel under notebooks then close the notebook browser window and relaunch it.\n",
    "# python -m ipykernel install --user --name=weaviate-env"
   ]
  },
  {
   "cell_type": "code",
   "execution_count": null,
   "id": "6ade9d9d-7c32-46f8-8b2d-a177f61adc54",
   "metadata": {},
   "outputs": [],
   "source": [
    "import boto3\n",
    "from io import BytesIO\n",
    "from PIL import Image\n",
    "import numpy as np\n",
    "import weaviate\n",
    "import tensorflow as tf\n",
    "from tensorflow.keras.applications import ResNet50\n",
    "from tensorflow.keras.applications.resnet50 import preprocess_input\n",
    "from tensorflow.keras.preprocessing import image\n",
    "from tensorflow.keras.preprocessing.image import img_to_array"
   ]
  },
  {
   "cell_type": "code",
   "execution_count": null,
   "id": "6558c4a5",
   "metadata": {},
   "outputs": [],
   "source": [
    "# Configure S3 connection\n",
    "object_storage_service_name = \"source-images-service\"\n",
    "object_storage_namespace = \".ezdata-system\"\n",
    "resource_type = \".svc\"\n",
    "domain = \".cluster.local\"\n",
    "object_storage_port = \"30000\"\n",
    "\n",
    "s3_endpoint_url = f\"http://{object_storage_service_name}{object_storage_namespace}{resource_type}{domain}:{object_storage_port}\"\n",
    "print(f\"S3 endpoint URL: {s3_endpoint_url}\")\n",
    "\n",
    "# Create S3 clients\n",
    "s3_client = boto3.client('s3', endpoint_url=s3_endpoint_url)\n",
    "s3_resource = boto3.resource('s3', endpoint_url=s3_endpoint_url)\n",
    "\n",
    "# Set bucket name\n",
    "bucket_name = \"poc-mercedes-gp\"\n",
    "\n",
    "# Load the dataset JSON file\n",
    "file_key = \"training/training_dataset.json\"\n",
    "response = s3_client.get_object(Bucket=bucket_name, Key=file_key)\n",
    "content = response[\"Body\"].read().decode(\"utf-8\")\n",
    "dataset = json.loads(content)\n",
    "\n",
    "# Display information about the dataset\n",
    "print(f\"Dataset size: {len(dataset)} images\")\n",
    "print(\"First image information:\")\n",
    "print(dataset[0])\n",
    "\n",
    "# Select a subset of images for testing (last 20% of the dataset)\n",
    "test_set_size = min(10, int(len(dataset) * 0.2))  # Either 10 images or 20% of dataset, whichever is smaller\n",
    "test_indices = list(range(len(dataset) - test_set_size, len(dataset)))\n",
    "print(f\"\\nSelected {test_set_size} test images (indices {test_indices[0]} to {test_indices[-1]})\")"
   ]
  },
  {
   "cell_type": "code",
   "execution_count": 6,
   "id": "71721af8-0011-45d2-9add-8b8418d489ed",
   "metadata": {},
   "outputs": [],
   "source": [
    "import weaviate, os\n",
    "from weaviate.classes.init import Auth\n",
    "\n",
    "def connect_to_weaviate():\n",
    "    #getting the auth token\n",
    "    secret_file_path = \"/etc/secrets/ezua/.auth_token\"\n",
    "    with open(secret_file_path, \"r\") as file:\n",
    "        token = file.read().strip()\n",
    "    \n",
    "    #Connect to Weaviate instance\n",
    "    #domain = \".cluster.local\"\n",
    "    weaviate_http_host = \"weaviate.poc-weaviate.svc.cluster.local\"\n",
    "    weaviate_grpc_host = \"weaviate-grpc.poc-weaviate.svc\" + domain\n",
    "    weaviate_headers = {\"x-auth-token\": token}\n",
    "    \n",
    "    client = weaviate.connect_to_custom(\n",
    "        http_host=weaviate_http_host,        # Hostname for the HTTP API connection\n",
    "        http_port=80,                        # Default is 80, WCD uses 443\n",
    "        http_secure=False,                   # Whether to use https (secure) for the HTTP API connection\n",
    "        grpc_host=weaviate_grpc_host,        # Hostname for the gRPC API connection\n",
    "        grpc_port=50051,                     # Default is 50051, WCD uses 443\n",
    "        grpc_secure=False,                   # Whether to use a secure channel for the gRPC API connection\n",
    "        headers=weaviate_headers,\n",
    "        skip_init_checks=False\n",
    "    )\n",
    "    \n",
    "    # Test the connection\n",
    "    try:\n",
    "        if client.is_ready():\n",
    "            # You can now interact with your Weaviate instance\n",
    "            print(\"Successfully connected to Weaviate with custom configuration!\")\n",
    "            return client\n",
    "        else:\n",
    "            print(\"Failed to connect to Weaviate.\")\n",
    "    except Exception as e:\n",
    "        print(f\"Error connecting to Weaviate: {e}\")"
   ]
  },
  {
   "cell_type": "code",
   "execution_count": 13,
   "id": "29bd4af4-12c4-4490-aa70-72e4426b9474",
   "metadata": {},
   "outputs": [],
   "source": [
    "def load_embedding_model():\n",
    "    model = ResNet50(weights='imagenet', include_top=False, pooling='avg')\n",
    "    return model"
   ]
  },
  {
   "cell_type": "code",
   "execution_count": 7,
   "id": "0227f602-109e-4bdb-b5b6-24d08776c4f3",
   "metadata": {},
   "outputs": [],
   "source": [
    "def list_images_in_s3(bucket_name, prefix=''):\n",
    "    response = s3_client.list_objects_v2(Bucket=bucket_name, Prefix=prefix)\n",
    "    return [item['Key'] for item in response.get('Contents', []) if item['Key'].lower().endswith(('png', 'jpg', 'jpeg'))]"
   ]
  },
  {
   "cell_type": "code",
   "execution_count": 8,
   "id": "5c52ace5-e5d4-4565-a4c6-0e5c21132fcb",
   "metadata": {},
   "outputs": [],
   "source": [
    "def read_image_from_s3(bucket_name, object_key):\n",
    "    response = s3_client.get_object(Bucket=bucket_name, Key=object_key)\n",
    "    image_content = response['Body'].read()\n",
    "    image = Image.open(BytesIO(image_content))\n",
    "    return image"
   ]
  },
  {
   "cell_type": "code",
   "execution_count": 9,
   "id": "a692dcf0-7194-466a-b87e-a192dbd46f22",
   "metadata": {},
   "outputs": [],
   "source": [
    "def image_to_numpy_array(image, target_size=(224, 224)):\n",
    "    image = image.resize(target_size)\n",
    "    image = image.convert('RGB')  # Ensure image is in RGB format\n",
    "    img_array = img_to_array(image)\n",
    "    img_array = np.expand_dims(img_array, axis=0)\n",
    "    img_array = preprocess_input(img_array)\n",
    "    return img_array"
   ]
  },
  {
   "cell_type": "code",
   "execution_count": 10,
   "id": "fb223bdb-23d1-427a-920b-acbb2252df6c",
   "metadata": {},
   "outputs": [],
   "source": [
    "def get_image_embedding(model, img_array):\n",
    "    embedding = model.predict(img_array)\n",
    "    return embedding.flatten()"
   ]
  },
  {
   "cell_type": "code",
   "execution_count": 16,
   "id": "e9d2f16d-1ec7-48f5-bb55-868b97fc2cd8",
   "metadata": {},
   "outputs": [],
   "source": [
    "def store_embeddings_in_weaviate(embeddings, image_keys, client, collection):\n",
    "    for key, embedding in zip(image_keys, embeddings):       \n",
    "        collection.data.insert(\n",
    "            properties={\n",
    "                \"image_key\": key,\n",
    "                \"image_embedding\": embedding.tolist()\n",
    "            }\n",
    "        )"
   ]
  },
  {
   "cell_type": "code",
   "execution_count": null,
   "id": "3a390fff-6b29-4566-a56b-c8192542916d",
   "metadata": {},
   "outputs": [],
   "source": [
    "import weaviate, os\n",
    "import weaviate.classes.config as wc\n",
    "from weaviate.classes.config import Configure, DataType, Multi2VecField, Property\n",
    "\n",
    "def main():\n",
    "    # Initialize Weaviate client\n",
    "    client_conn = connect_to_weaviate()\n",
    "\n",
    "    if client_conn.collections.exists(\"MercedesImageEmbedding\"):\n",
    "        client_conn.collections.delete(\"MercedesImageEmbedding\") \n",
    "   \n",
    "    client_conn.collections.create(\n",
    "        name=\"MercedesImageEmbedding\",\n",
    "        properties=[\n",
    "            Property(name=\"image_key\", data_type = DataType.TEXT),\n",
    "            Property(name=\"image_embedding\", data_type = DataType.NUMBER_ARRAY),\n",
    "        ],\n",
    "        vectorizer_config=wc.Configure.Vectorizer.none(),\n",
    "    )\n",
    "\n",
    "    collection = client_conn.collections.get(\"MercedesImageEmbedding\")\n",
    "    \n",
    "    # Load the embedding model\n",
    "    embedding_model = load_embedding_model()\n",
    "    \n",
    "    # List images in S3\n",
    "    image_keys = list_images_in_s3(bucket_name, prefix)\n",
    "    #print(image_keys)\n",
    "\n",
    "    embeddings = []\n",
    "    for key in image_keys:\n",
    "        # Read image from S3\n",
    "        image = read_image_from_s3(bucket_name, key)\n",
    "        print(image)\n",
    "        \n",
    "        # Convert image to NumPy array\n",
    "        image_array = image_to_numpy_array(image)\n",
    "        #print(image_array)\n",
    "\n",
    "        # Get image embedding\n",
    "        embedding = get_image_embedding(embedding_model, image_array)\n",
    "\n",
    "        # Collect embeddings\n",
    "        embeddings.append(embedding)\n",
    "    \n",
    "    # Store embeddings in Weaviate\n",
    "    store_embeddings_in_weaviate(embeddings, image_keys, client_conn, collection)\n",
    "\n",
    "    client_conn.close()\n",
    "    \n",
    "if __name__ == \"__main__\":\n",
    "    main()"
   ]
  }
 ],
 "metadata": {
  "kernelspec": {
   "display_name": "Python 3 (ipykernel)",
   "language": "python",
   "name": "python3"
  },
  "language_info": {
   "codemirror_mode": {
    "name": "ipython",
    "version": 3
   },
   "file_extension": ".py",
   "mimetype": "text/x-python",
   "name": "python",
   "nbconvert_exporter": "python",
   "pygments_lexer": "ipython3",
   "version": "3.11.9"
  }
 },
 "nbformat": 4,
 "nbformat_minor": 5
}
